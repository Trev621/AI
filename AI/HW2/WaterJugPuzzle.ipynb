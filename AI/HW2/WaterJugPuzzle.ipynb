{
  "nbformat": 4,
  "nbformat_minor": 0,
  "metadata": {
    "colab": {
      "provenance": [],
      "authorship_tag": "ABX9TyOQ7uMErR2jlZczDDDgMpet",
      "include_colab_link": true
    },
    "kernelspec": {
      "name": "python3",
      "display_name": "Python 3"
    },
    "language_info": {
      "name": "python"
    }
  },
  "cells": [
    {
      "cell_type": "markdown",
      "metadata": {
        "id": "view-in-github",
        "colab_type": "text"
      },
      "source": [
        "<a href=\"https://colab.research.google.com/github/Trev621/AI/blob/main/AI/HW2/WaterJugPuzzle.ipynb\" target=\"_parent\"><img src=\"https://colab.research.google.com/assets/colab-badge.svg\" alt=\"Open In Colab\"/></a>"
      ]
    },
    {
      "cell_type": "code",
      "execution_count": null,
      "metadata": {
        "id": "AZ2fIttHPzIB"
      },
      "outputs": [],
      "source": [
        "class WaterJugPuzzle():\n",
        "\n",
        "  #Start with both jugs empty\n",
        "  def __init__(self):\n",
        "      self.left  = 0\n",
        "      self.right = 0\n",
        "\n",
        "  #Empty the large jug\n",
        "  def empty_left(self):\n",
        "      self.left = 0\n",
        "\n",
        "  #Empty the small jug\n",
        "  def empty_right(self):\n",
        "      self.right = 0\n",
        "\n",
        "  #Fill the large jug\n",
        "  def fill_left(self):\n",
        "      self.left = 5\n",
        "\n",
        "  #Fill the small jug\n",
        "  def fill_right(self):\n",
        "      self.right = 5\n",
        "\n",
        "  #Pour the left jug into the right jug\n",
        "  def fill_right_with_left(self):\n",
        "      while self.right < 3 and self.left > 0:\n",
        "        self.right = self.right + 1;\n",
        "        self.left = self.left - 1;\n",
        "\n",
        "  #Pour the right jug into the left jug\n",
        "  def fill_left_with_right(self):\n",
        "      while self.left < 5 and self.right > 0:\n",
        "        self.left = self.left + 1;\n",
        "        self.right = self.right - 1;\n",
        "\n",
        "  #Print out the contents of each jug\n",
        "  def print_state(self):\n",
        "      print(\"Left Jug: \", self.left, \" Right Jug: \", self.right)"
      ]
    },
    {
      "cell_type": "code",
      "source": [
        "test = WaterJugPuzzle()\n",
        "#Start state where both jugs are at 0\n",
        "print(\"Start State: \")\n",
        "test.print_state()\n",
        "\n",
        "#Fill large jug\n",
        "test.fill_left()\n",
        "test.print_state()\n",
        "\n",
        "#Fill small jug with large\n",
        "test.fill_right_with_left()\n",
        "test.print_state()\n",
        "\n",
        "#Empty small jug\n",
        "test.empty_right()\n",
        "test.print_state()\n",
        "\n",
        "#Fill left into right\n",
        "test.fill_right_with_left()\n",
        "test.print_state()\n",
        "\n",
        "#Refill large jug\n",
        "test.fill_left()\n",
        "test.print_state()\n",
        "\n",
        "#Fill the right with the left jug\n",
        "test.fill_right_with_left()\n",
        "test.print_state()\n",
        "\n",
        "#Goal State\n",
        "print(\"Goal State: \")\n",
        "test.print_state()"
      ],
      "metadata": {
        "colab": {
          "base_uri": "https://localhost:8080/"
        },
        "id": "rzLPxHDEfk2i",
        "outputId": "fad3ca55-2524-48a3-a328-ff91eec7187e"
      },
      "execution_count": null,
      "outputs": [
        {
          "output_type": "stream",
          "name": "stdout",
          "text": [
            "Start State: \n",
            "Left Jug:  0  Right Jug:  0\n",
            "Left Jug:  5  Right Jug:  0\n",
            "Left Jug:  2  Right Jug:  3\n",
            "Left Jug:  2  Right Jug:  0\n",
            "Left Jug:  0  Right Jug:  2\n",
            "Left Jug:  5  Right Jug:  2\n",
            "Left Jug:  4  Right Jug:  3\n",
            "Goal State: \n",
            "Left Jug:  4  Right Jug:  3\n"
          ]
        }
      ]
    }
  ]
}