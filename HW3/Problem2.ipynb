{
  "nbformat": 4,
  "nbformat_minor": 0,
  "metadata": {
    "colab": {
      "provenance": [],
      "authorship_tag": "ABX9TyM4GNOiECL0PICMNYqjJnb0",
      "include_colab_link": true
    },
    "kernelspec": {
      "name": "python3",
      "display_name": "Python 3"
    },
    "language_info": {
      "name": "python"
    }
  },
  "cells": [
    {
      "cell_type": "markdown",
      "metadata": {
        "id": "view-in-github",
        "colab_type": "text"
      },
      "source": [
        "<a href=\"https://colab.research.google.com/github/Trev621/AI/blob/main/HW3/Problem2.ipynb\" target=\"_parent\"><img src=\"https://colab.research.google.com/assets/colab-badge.svg\" alt=\"Open In Colab\"/></a>"
      ]
    },
    {
      "cell_type": "markdown",
      "source": [
        "Author: Trevor Lacoste\n",
        "The purpose of this assignment is to write an algorithm that uses BFS to discover potentially missing immediate connections in a network."
      ],
      "metadata": {
        "id": "eRcGCtHPA-po"
      }
    },
    {
      "cell_type": "code",
      "source": [
        "from collections import deque\n",
        "\n",
        "def PotentialFriends(graph, user):\n",
        "\n",
        "  #Returns none if invalid user is given\n",
        "  if user not in graph:\n",
        "    return None\n",
        "\n",
        "  #Create set, deque, and list for missing connections\n",
        "  visited, queue = set(), deque([(user, 0)])\n",
        "  visited.add(user)\n",
        "  missingConnections = []\n",
        "\n",
        "  while queue:\n",
        "    vertex, level = queue.popleft()\n",
        "\n",
        "    #If a friend node is further than level 1 by some path, then check if it directly connected to user\n",
        "    if level > 1 and vertex not in missingConnections:\n",
        "      #Only adds friend to missing list if it's not an item in the users dictionary\n",
        "      if vertex not in graph[user]:\n",
        "        missingConnections.append(vertex)\n",
        "\n",
        "    #Checks all neighbors of starting user node\n",
        "    if level < len(graph):\n",
        "      for neighbor in graph[vertex]:\n",
        "        if neighbor not in visited:\n",
        "          visited.add(vertex)\n",
        "          queue.append((neighbor, level + 1))\n",
        "\n",
        "  #Returns list of missing connections\n",
        "  return missingConnections"
      ],
      "metadata": {
        "id": "g5cNmdTgvvRk"
      },
      "execution_count": null,
      "outputs": []
    },
    {
      "cell_type": "code",
      "source": [
        "  testgraph = {\n",
        "    'Sophia' : ['Maya', 'Maria'],\n",
        "    'Maya' : ['Sophia', 'David', 'Maria'],\n",
        "    'David' : ['Maya', 'Maria'],\n",
        "    'Maria' : ['Sophia', 'Maya', 'David', 'Adam'],\n",
        "    'Adam' : ['Maria']\n",
        "  }\n",
        "\n",
        "  PotentialFriends(testgraph, 'Adam')"
      ],
      "metadata": {
        "colab": {
          "base_uri": "https://localhost:8080/"
        },
        "id": "JiHnRH1jvX8k",
        "outputId": "6ca2403d-6023-45a6-d474-632199fc78f7"
      },
      "execution_count": null,
      "outputs": [
        {
          "output_type": "execute_result",
          "data": {
            "text/plain": [
              "['Sophia', 'Maya', 'David']"
            ]
          },
          "metadata": {},
          "execution_count": 8
        }
      ]
    },
    {
      "cell_type": "code",
      "source": [
        "  PotentialFriends(testgraph, 'David')"
      ],
      "metadata": {
        "colab": {
          "base_uri": "https://localhost:8080/"
        },
        "id": "W9RVSBtS_UJi",
        "outputId": "c1c9694b-6886-43b4-800b-aa0e37b00049"
      },
      "execution_count": null,
      "outputs": [
        {
          "output_type": "execute_result",
          "data": {
            "text/plain": [
              "['Sophia', 'Adam']"
            ]
          },
          "metadata": {},
          "execution_count": 9
        }
      ]
    },
    {
      "cell_type": "code",
      "source": [
        "  PotentialFriends(testgraph, 'Sophia')"
      ],
      "metadata": {
        "colab": {
          "base_uri": "https://localhost:8080/"
        },
        "id": "IZrea-Ul_ULg",
        "outputId": "ab002b46-8e33-4815-e874-e7057f571568"
      },
      "execution_count": null,
      "outputs": [
        {
          "output_type": "execute_result",
          "data": {
            "text/plain": [
              "['David', 'Adam']"
            ]
          },
          "metadata": {},
          "execution_count": 10
        }
      ]
    }
  ]
}