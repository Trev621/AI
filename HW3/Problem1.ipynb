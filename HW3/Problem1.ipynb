{
  "nbformat": 4,
  "nbformat_minor": 0,
  "metadata": {
    "colab": {
      "provenance": [],
      "authorship_tag": "ABX9TyMqw7LTwywpz37qKWK87Dml",
      "include_colab_link": true
    },
    "kernelspec": {
      "name": "python3",
      "display_name": "Python 3"
    },
    "language_info": {
      "name": "python"
    }
  },
  "cells": [
    {
      "cell_type": "markdown",
      "metadata": {
        "id": "view-in-github",
        "colab_type": "text"
      },
      "source": [
        "<a href=\"https://colab.research.google.com/github/Trev621/AI/blob/main/HW3/Problem1.ipynb\" target=\"_parent\"><img src=\"https://colab.research.google.com/assets/colab-badge.svg\" alt=\"Open In Colab\"/></a>"
      ]
    },
    {
      "cell_type": "markdown",
      "source": [
        "Author: Trevor Lacoste\n",
        "The purpose of this assignment is to use the BFS algorithm to return the kth-level friend for a given user and graph: FindFriends(G, User, K)."
      ],
      "metadata": {
        "id": "LOZm7eL8AwxQ"
      }
    },
    {
      "cell_type": "code",
      "source": [
        "from collections import deque\n",
        "\n",
        "def FindFriends(graph, user, k):\n",
        "\n",
        "  #Returns none if invalid user is given\n",
        "  if user not in graph:\n",
        "    return None\n",
        "\n",
        "  #Create set, deque, and list for names of friends at certain level\n",
        "  visited, queue = set(), deque([(user, 0)])\n",
        "  visited.add(user)\n",
        "  kthFriends = []\n",
        "\n",
        "  #Keep going while there are still nodes left in queue\n",
        "  while queue:\n",
        "    vertex, level = queue.popleft()\n",
        "\n",
        "    #If level equals the given k value, then add that friend to list\n",
        "    if level == k:\n",
        "      kthFriends.append(vertex)\n",
        "\n",
        "    #If the level is not yet at given k, then keep going to the next neighbor\n",
        "    if level < k:\n",
        "      for neighbor in graph[vertex]:\n",
        "        if neighbor not in visited:\n",
        "          visited.add(vertex)\n",
        "          queue.append((neighbor, level + 1))\n",
        "\n",
        "  #Returns a list of friends at given k level\n",
        "  return kthFriends"
      ],
      "metadata": {
        "id": "FzWTORbM2-2l"
      },
      "execution_count": null,
      "outputs": []
    },
    {
      "cell_type": "code",
      "source": [
        "  testgraph = {\n",
        "    'Richard' : [],\n",
        "    'Bob' : ['Richard', 'Rob', 'Pam'],\n",
        "    'Rob' : [],\n",
        "    'Pam' : ['Roger', 'Peter'],\n",
        "    'Roger' : ['Anna'],\n",
        "    'Peter' : ['Amy'],\n",
        "    'Anna' : [],\n",
        "    'Amy' : []\n",
        "  }\n",
        "\n",
        "  FindFriends(testgraph, 'Bob', 3)"
      ],
      "metadata": {
        "colab": {
          "base_uri": "https://localhost:8080/"
        },
        "id": "RbrdusjM2-8i",
        "outputId": "758f1a08-73a0-4e7b-f305-1e38acbe7354"
      },
      "execution_count": null,
      "outputs": [
        {
          "output_type": "execute_result",
          "data": {
            "text/plain": [
              "['Anna', 'Amy']"
            ]
          },
          "metadata": {},
          "execution_count": 5
        }
      ]
    },
    {
      "cell_type": "code",
      "source": [
        "  FindFriends(testgraph, 'Pam', 1)"
      ],
      "metadata": {
        "colab": {
          "base_uri": "https://localhost:8080/"
        },
        "id": "WVMoSPpeAKoB",
        "outputId": "9351738a-b525-4e61-93c9-4fd29becadd6"
      },
      "execution_count": null,
      "outputs": [
        {
          "output_type": "execute_result",
          "data": {
            "text/plain": [
              "['Roger', 'Peter']"
            ]
          },
          "metadata": {},
          "execution_count": 6
        }
      ]
    }
  ]
}