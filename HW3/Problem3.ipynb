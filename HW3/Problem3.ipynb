{
  "nbformat": 4,
  "nbformat_minor": 0,
  "metadata": {
    "colab": {
      "provenance": [],
      "authorship_tag": "ABX9TyPx9bTRxdL8ppFQQ/5H4Zrh",
      "include_colab_link": true
    },
    "kernelspec": {
      "name": "python3",
      "display_name": "Python 3"
    },
    "language_info": {
      "name": "python"
    }
  },
  "cells": [
    {
      "cell_type": "markdown",
      "metadata": {
        "id": "view-in-github",
        "colab_type": "text"
      },
      "source": [
        "<a href=\"https://colab.research.google.com/github/Trev621/AI/blob/main/HW3/Problem3.ipynb\" target=\"_parent\"><img src=\"https://colab.research.google.com/assets/colab-badge.svg\" alt=\"Open In Colab\"/></a>"
      ]
    },
    {
      "cell_type": "markdown",
      "source": [
        "Author: Trevor Lacoste\n",
        "The purpose of this assignment is to rite a DFS algorithm which when given a start node and a goal node, it returns SUCCESS if the goal is reachable and FAILURE otherwise."
      ],
      "metadata": {
        "id": "97pmfNeOBRT6"
      }
    },
    {
      "cell_type": "code",
      "execution_count": 5,
      "metadata": {
        "id": "oRL1QM3BioaY"
      },
      "outputs": [],
      "source": [
        "def DFS(graph, start, goal, visited):\n",
        "\n",
        "  #Creates a set if visited is empty\n",
        "  if visited is None:\n",
        "    visited = set()\n",
        "\n",
        "  #Add starting node to set\n",
        "  visited.add(start)\n",
        "\n",
        "  #Check if starting node is goal node\n",
        "  if start == goal:\n",
        "    return \"SUCCESS\"\n",
        "\n",
        "  #Visit neighbor node of start node\n",
        "  for neighbor in graph[start]:\n",
        "    #If neighbor is not in the visited set, recursively call DFS with neighbor as starting node\n",
        "    if neighbor not in visited:\n",
        "      result = DFS(graph, neighbor, goal, visited)\n",
        "      if result == \"SUCCESS\":\n",
        "        return \"SUCCESS\"\n",
        "\n",
        "  #If goal node is not found, return FAILURE\n",
        "  return \"FAILURE\""
      ]
    },
    {
      "cell_type": "code",
      "source": [
        "  testgraph = {\n",
        "    0 : [2, 10],\n",
        "    1 : [0, 2],\n",
        "    2 : [1, 12],\n",
        "    3 : [4, 13],\n",
        "    4 : [3, 5],\n",
        "    5 : [4, 15],\n",
        "    6 : [7, 16],\n",
        "    7 : [6, 8],\n",
        "    8 : [7, 9],\n",
        "    9 : [8, 19],\n",
        "    10 : [0, 20],\n",
        "    11 : [12],\n",
        "    12 : [2, 11],\n",
        "    13 : [3, 14],\n",
        "    14 : [13, 24],\n",
        "    15 : [5, 16],\n",
        "    16 : [6, 15],\n",
        "    17 : [27],\n",
        "    18 : [19, 28],\n",
        "    19 : [9, 18],\n",
        "    20 : [10, 21],\n",
        "    21 : [20, 31],\n",
        "    22 : [23, 32],\n",
        "    23 : [22],\n",
        "    24 : [14, 25, 34],\n",
        "    25 : [24, 35],\n",
        "    26 : [16, 27],\n",
        "    27 : [17, 26],\n",
        "    28 : [18, 38],\n",
        "    29 : [39],\n",
        "    30 : [31, 40],\n",
        "    31 : [21, 30],\n",
        "    32 : [22, 31],\n",
        "    33 : [34, 43],\n",
        "    34 : [24, 33, 44],\n",
        "    35 : [25, 36],\n",
        "    36 : [35],\n",
        "    37 : [38, 47],\n",
        "    38 : [28, 37],\n",
        "    39 : [38, 29],\n",
        "    40 : [30, 41],\n",
        "    41 : [40, 42],\n",
        "    42 : [41, 43],\n",
        "    43 : [33, 42],\n",
        "    44 : [34, 45],\n",
        "    45 : [44],\n",
        "    46 : [47],\n",
        "    47 : [37, 46, 48],\n",
        "    48 : [47, 49],\n",
        "    49 : [48]\n",
        "  }\n",
        "\n",
        "  DFS(testgraph, 0, 49, None)"
      ],
      "metadata": {
        "colab": {
          "base_uri": "https://localhost:8080/",
          "height": 35
        },
        "id": "isRE6cqnq-ds",
        "outputId": "59735d98-7147-4bc3-b82b-f650fd1f23a0"
      },
      "execution_count": 6,
      "outputs": [
        {
          "output_type": "execute_result",
          "data": {
            "text/plain": [
              "'SUCCESS'"
            ],
            "application/vnd.google.colaboratory.intrinsic+json": {
              "type": "string"
            }
          },
          "metadata": {},
          "execution_count": 6
        }
      ]
    },
    {
      "cell_type": "code",
      "source": [
        "  testgraph2 = {\n",
        "    0 : [2, 10],\n",
        "    1 : [0, 2],\n",
        "    2 : [1, 12],\n",
        "    3 : [4, 13],\n",
        "    4 : [3, 5],\n",
        "    5 : [4, 15],\n",
        "    6 : [7, 16],\n",
        "    7 : [6, 8],\n",
        "    8 : [7, 9],\n",
        "    9 : [8, 19],\n",
        "    10 : [0, 20],\n",
        "    11 : [12],\n",
        "    12 : [2, 11],\n",
        "    13 : [3, 14],\n",
        "    14 : [13, 24],\n",
        "    15 : [5, 16],\n",
        "    16 : [6, 15],\n",
        "    17 : [27],\n",
        "    18 : [19, 28],\n",
        "    19 : [9, 18],\n",
        "    20 : [10, 21],\n",
        "    21 : [20],\n",
        "    22 : [23, 32],\n",
        "    23 : [22],\n",
        "    24 : [14, 25, 34],\n",
        "    25 : [24, 35],\n",
        "    26 : [16, 27],\n",
        "    27 : [17, 26],\n",
        "    28 : [18, 38],\n",
        "    29 : [39],\n",
        "    30 : [31, 40],\n",
        "    31 : [21, 30],\n",
        "    32 : [22, 31],\n",
        "    33 : [34, 43],\n",
        "    34 : [24, 33, 44],\n",
        "    35 : [25, 36],\n",
        "    36 : [35],\n",
        "    37 : [38, 47],\n",
        "    38 : [28, 37],\n",
        "    39 : [38, 29],\n",
        "    40 : [30, 41],\n",
        "    41 : [40, 42],\n",
        "    42 : [41, 43],\n",
        "    43 : [33, 42],\n",
        "    44 : [34, 45],\n",
        "    45 : [44],\n",
        "    46 : [47],\n",
        "    47 : [37, 46, 48],\n",
        "    48 : [47, 49],\n",
        "    49 : [48]\n",
        "  }\n",
        "\n",
        "  DFS(testgraph2, 0, 49, None)"
      ],
      "metadata": {
        "colab": {
          "base_uri": "https://localhost:8080/",
          "height": 35
        },
        "id": "yRJpqDGX4LKe",
        "outputId": "680fd34f-1010-4fcb-ca4b-45770d5cfe24"
      },
      "execution_count": 7,
      "outputs": [
        {
          "output_type": "execute_result",
          "data": {
            "text/plain": [
              "'FAILURE'"
            ],
            "application/vnd.google.colaboratory.intrinsic+json": {
              "type": "string"
            }
          },
          "metadata": {},
          "execution_count": 7
        }
      ]
    }
  ]
}